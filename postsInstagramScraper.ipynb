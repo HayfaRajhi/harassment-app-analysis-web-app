{
 "cells": [
  {
   "cell_type": "markdown",
   "metadata": {},
   "source": [
    "NOTE :  you Need to install before executing those cells the chromeDriver from the website\" https://googlechromelabs.github.io/chrome-for-testing/ \"\n",
    "###\n",
    "another important note that my chrome is in french language so some text elements that i have scrapped are in french , make sure that your web browser is in french language\n",
    "###\n",
    "also you have to fill in the code your username and your password to allow the scraper acces for your accoun"
   ]
  },
  {
   "cell_type": "markdown",
   "metadata": {},
   "source": [
    "1- Libraries"
   ]
  },
  {
   "cell_type": "code",
   "execution_count": 1,
   "metadata": {},
   "outputs": [],
   "source": [
    "#import necessar librairies\n",
    "from selenium import webdriver\n",
    "from selenium.webdriver.common.keys import Keys\n",
    "from selenium.webdriver.support import expected_conditions as EC\n",
    "from selenium.webdriver.common.by import By\n",
    "from selenium.webdriver.support.wait import WebDriverWait\n",
    "import time\n"
   ]
  },
  {
   "cell_type": "markdown",
   "metadata": {},
   "source": [
    "2-Download ChromeDriver"
   ]
  },
  {
   "cell_type": "code",
   "execution_count": 2,
   "metadata": {},
   "outputs": [
    {
     "name": "stderr",
     "output_type": "stream",
     "text": [
      "The chromedriver version (126.0.6478.126) detected in PATH at C:\\Users\\hayfa\\chromedriver-win64\\chromedriver-win64\\chromedriver.exe might not be compatible with the detected chrome version (127.0.6533.120); currently, chromedriver 127.0.6533.119 is recommended for chrome 127.*, so it is advised to delete the driver in PATH and retry\n"
     ]
    }
   ],
   "source": [
    "#specify the path to chromedriver.exe (download and save on your computer)\n",
    "path=\"C:/Users/hayfa/chromedriver-win64/chromedriver-win64/chromedriver.exe\"\n",
    "driver= webdriver.Chrome()\n",
    "\n",
    "#open the webpage\n",
    "driver.get(\"https://www.instagram.com\")\n"
   ]
  },
  {
   "cell_type": "markdown",
   "metadata": {},
   "source": [
    "3- Login to Instagram Account "
   ]
  },
  {
   "cell_type": "code",
   "execution_count": 8,
   "metadata": {},
   "outputs": [],
   "source": [
    "username = WebDriverWait(driver, 10).until(EC.element_to_be_clickable((By.CSS_SELECTOR, \"input[name='username']\")))\n",
    "password = WebDriverWait(driver, 10).until(EC.element_to_be_clickable((By.CSS_SELECTOR, \"input[name='password']\")))\n",
    "#enter username and password of your instagram account\n",
    "username.clear()\n",
    "username.send_keys(\"hayfarajhi@gmail.com\") ##fill with you username \n",
    "password.clear()\n",
    "password.send_keys(\"afyahihjar123\")##fill with you password\n",
    "#target the login button and click it\n",
    "button = WebDriverWait(driver, 2).until(EC.element_to_be_clickable((By.CSS_SELECTOR, \"button[type='submit']\"))).click()\n",
    "\n"
   ]
  },
  {
   "cell_type": "code",
   "execution_count": 42,
   "metadata": {},
   "outputs": [],
   "source": [
    "# Wait for the page to load\n",
    "##time.sleep(5)\n",
    "try:\n",
    "\n",
    "    alert = WebDriverWait(driver, 15).until(EC.element_to_be_clickable((By.XPATH, '//div[contains(text(), \"Plus tard\")]'))).click()\n",
    "\n",
    "except Exception as e:\n",
    "    print(f\"An error occurred: {e}\")"
   ]
  },
  {
   "cell_type": "code",
   "execution_count": 43,
   "metadata": {},
   "outputs": [],
   "source": [
    "alert2 = WebDriverWait(driver, 15).until(EC.element_to_be_clickable((By.XPATH, '//button[contains(text(), \"Plus tard\")]'))).click()\n"
   ]
  },
  {
   "cell_type": "markdown",
   "metadata": {},
   "source": [
    "4-Search for the specific hashtag\n"
   ]
  },
  {
   "cell_type": "code",
   "execution_count": 9,
   "metadata": {},
   "outputs": [],
   "source": [
    "#target the search input field\n",
    "searchbox = WebDriverWait(driver, 20).until(EC.element_to_be_clickable((By.XPATH, \"//input[@placeholder='Rechercher']\")))\n",
    "searchbox.clear()\n",
    "\n",
    "#search for the hashtag decesjacqueschirac\n",
    "keyword = \"#harassment\" #jacqueschiracestmort #jacqueschiracrip\n",
    "searchbox.send_keys(keyword)\n",
    " \n",
    "#FIXING THE DOUBLE ENTER\n",
    "time.sleep(5) # Wait for 5 seconds\n",
    "my_link = WebDriverWait(driver, 10).until(EC.element_to_be_clickable((By.XPATH, \"//a[contains(@href, '/\" + keyword[1:] + \"/')]\")))\n",
    "my_link.click()"
   ]
  },
  {
   "cell_type": "code",
   "execution_count": 10,
   "metadata": {},
   "outputs": [],
   "source": [
    "#scroll down 2 times\n",
    "n_scrolls = 2\n",
    "for j in range(0, n_scrolls):\n",
    "    driver.execute_script(\"window.scrollTo(0, document.body.scrollHeight);\")\n",
    "    time.sleep(5)"
   ]
  },
  {
   "cell_type": "code",
   "execution_count": 11,
   "metadata": {},
   "outputs": [
    {
     "name": "stdout",
     "output_type": "stream",
     "text": [
      "Found 35 links to images\n",
      "['https://www.instagram.com/p/C4z5T-tovFj/', 'https://www.instagram.com/p/C3Z37MWqQqk/', 'https://www.instagram.com/p/C5Ds1tnKGFF/', 'https://www.instagram.com/p/C-zbaHcP63L/', 'https://www.instagram.com/p/CuUyiLNt9KM/']\n"
     ]
    }
   ],
   "source": [
    " # Target all the link elements on the page\n",
    "anchors = driver.find_elements(By.TAG_NAME, 'a')\n",
    "  \n",
    "    # Narrow down to image links only\n",
    "anchors = [a.get_attribute('href') for a in anchors if str(a.get_attribute('href')).startswith(\"https://www.instagram.com/p/\")]\n",
    "    \n",
    "print('Found ' + str(len(anchors)) + ' links to images')\n",
    "print(anchors[:5])  # Print the first 5 image links"
   ]
  },
  {
   "cell_type": "markdown",
   "metadata": {},
   "source": [
    "extracting the name of the page , description of posts then the comments"
   ]
  },
  {
   "cell_type": "code",
   "execution_count": 12,
   "metadata": {},
   "outputs": [
    {
     "name": "stdout",
     "output_type": "stream",
     "text": [
      "Error while extracting post text: Message: \n",
      "Stacktrace:\n",
      "\tGetHandleVerifier [0x00007FF66536EEA2+31554]\n",
      "\t(No symbol) [0x00007FF6652E7ED9]\n",
      "\t(No symbol) [0x00007FF6651A872A]\n",
      "\t(No symbol) [0x00007FF6651F8434]\n",
      "\t(No symbol) [0x00007FF6651F853C]\n",
      "\t(No symbol) [0x00007FF66523F6A7]\n",
      "\t(No symbol) [0x00007FF66521D06F]\n",
      "\t(No symbol) [0x00007FF66523C977]\n",
      "\t(No symbol) [0x00007FF66521CDD3]\n",
      "\t(No symbol) [0x00007FF6651EA33B]\n",
      "\t(No symbol) [0x00007FF6651EAED1]\n",
      "\tGetHandleVerifier [0x00007FF665678B1D+3217341]\n",
      "\tGetHandleVerifier [0x00007FF6656C5AE3+3532675]\n",
      "\tGetHandleVerifier [0x00007FF6656BB0E0+3489152]\n",
      "\tGetHandleVerifier [0x00007FF66541E776+750614]\n",
      "\t(No symbol) [0x00007FF6652F375F]\n",
      "\t(No symbol) [0x00007FF6652EEB14]\n",
      "\t(No symbol) [0x00007FF6652EECA2]\n",
      "\t(No symbol) [0x00007FF6652DE16F]\n",
      "\tBaseThreadInitThunk [0x00007FFB6128257D+29]\n",
      "\tRtlUserThreadStart [0x00007FFB622AAF28+40]\n",
      "\n",
      "Error while extracting comments: Message: stale element reference: stale element not found in the current frame\n",
      "  (Session info: chrome=127.0.6533.120); For documentation on this error, please visit: https://www.selenium.dev/documentation/webdriver/troubleshooting/errors#stale-element-reference-exception\n",
      "Stacktrace:\n",
      "\tGetHandleVerifier [0x00007FF66536EEA2+31554]\n",
      "\t(No symbol) [0x00007FF6652E7ED9]\n",
      "\t(No symbol) [0x00007FF6651A872A]\n",
      "\t(No symbol) [0x00007FF6651AE55E]\n",
      "\t(No symbol) [0x00007FF6651B0EB1]\n",
      "\t(No symbol) [0x00007FF6651B0F50]\n",
      "\t(No symbol) [0x00007FF6651F21DB]\n",
      "\t(No symbol) [0x00007FF66521D02A]\n",
      "\t(No symbol) [0x00007FF6651EBA76]\n",
      "\t(No symbol) [0x00007FF66521D240]\n",
      "\t(No symbol) [0x00007FF66523C977]\n",
      "\t(No symbol) [0x00007FF66521CDD3]\n",
      "\t(No symbol) [0x00007FF6651EA33B]\n",
      "\t(No symbol) [0x00007FF6651EAED1]\n",
      "\tGetHandleVerifier [0x00007FF665678B1D+3217341]\n",
      "\tGetHandleVerifier [0x00007FF6656C5AE3+3532675]\n",
      "\tGetHandleVerifier [0x00007FF6656BB0E0+3489152]\n",
      "\tGetHandleVerifier [0x00007FF66541E776+750614]\n",
      "\t(No symbol) [0x00007FF6652F375F]\n",
      "\t(No symbol) [0x00007FF6652EEB14]\n",
      "\t(No symbol) [0x00007FF6652EECA2]\n",
      "\t(No symbol) [0x00007FF6652DE16F]\n",
      "\tBaseThreadInitThunk [0x00007FFB6128257D+29]\n",
      "\tRtlUserThreadStart [0x00007FFB622AAF28+40]\n",
      "\n",
      "User Name: moneycontrol_hindi, Comment Text: Even Krishan ji is not safe with stree 😂\n",
      "User Name: moneycontrol_hindi, Comment Text: That's why I decided to stay single throughout the my😢 life\n",
      "User Name: the_notorious_vibe, Comment Text: Brave men\n",
      "User Name: avsk_kr, Comment Text: इस दुनिया ने राम को नहीं छोड़ा, हम तो फिर भी आम है।🙏🏻🕉️🔱\n",
      "User Name: prasad.vaidya.16, Comment Text: इस संसार से मेरा विश्वास उठ गया जिसने लोंगो की उलझनों को दूर करने की कोशिश की वो खुद उलझन में फस गए\n",
      "User Name: vairagi765, Comment Text: राखी सावंत जिंदाबाद😂\n",
      "User Name: joshi740000, Comment Text: Sir aaj bhi aapki languages bta rahi hai ki aap bhura che insan hain but kalyug hai ye sir\n",
      "User Name: frankly_attitude_alone_happer, Comment Text: Nitish ji महाभारत मे भी सस्त्र उठा नही पाए, abhi उठा नही पा रहे है?\n",
      "User Name: sharmaaadi062, Comment Text: MPFC madhya pradesh financial corporation main thi iski gharwali\n",
      "User Name: amitmshr0492, Comment Text: हे प्रभू\n",
      "User Name: imsamyakbafna, Comment Text: जय श्री कृष्ण आपकी जीत होगी\n",
      "User Name: darokardhanraj, Comment Text: Aapki halat aisi he to Hamari kesi hogi Bhagwan\n",
      "User Name: abhinav.vyas.549, Comment Text: Krishna ji is also not feeling safe wherever his wife is IAS 😂\n",
      "User Name: yogeshamin, Comment Text: To fir abhimanyu ko kyu bheja chakrvyuh me!!\n",
      "User Name: cma.unofficial, Comment Text: True relatable bhai I am also CMA Student 😢\n",
      "User Name: cma.unofficial, Comment Text: Bohot relatable h......kab hoga clear yr 😩\n",
      "User Name: harsh_soni_5864, Comment Text: 💯 , but one day we can do it ❤️🙌\n",
      "User Name: garv_sachdev, Comment Text: Relatable...laga Thoda😂bro\n",
      "User Name: mistryhemant9923, Comment Text: Exactly 🥺\n",
      "User Name: sky__8055, Comment Text: Damnn truth\n",
      "User Name: zoha.farzana, Comment Text: relatable Bhai\n",
      "User Name: vyas.samridhi, Comment Text: Relatable 😢\n",
      "User Name: tsam967912022, Comment Text: Or phir log bolte hain ki CMA toh bohot easy hai tough toh Ca hai bus ... No hate for Ca course 😀\n",
      "User Name: manpreet_mehra226, Comment Text: 😢😢 kabhi kabhi tuut jate hein...after all parents keleya again khada hona padhta hey\n",
      "User Name: dom_perignon786, Comment Text: Me ni leta tension chill rehta me to ho gya pass to thik Verna fir dedenge, fail ho gya zindgi thodi khtm ho gai\n",
      "User Name: _stk90_, Comment Text: CMA students bhi itna padhte hain\n",
      "User Name: _a_man_from_himachal_, Comment Text: 😢😢\n",
      "User Name: sujit.panigrahi1995, Comment Text: 😢\n",
      "User Name: news7tamil, Comment Text: 😂\n",
      "User Name: news7tamil, Comment Text: நீங்களும் ஒரு பெண் தானே 🙌 இப்படி நடந்து கொள்ளலாமா\n",
      "User Name: gokul_spartan, Comment Text: வேலைய விட்டே தூகுங்க... அதென்ன வேறு துறைக்கு மாற்றம்.. கண் துடைப்பு நடவடிக்கைகளால் நாடே உருப்படாது...\n",
      "User Name: karthik_balaji_ks, Comment Text: Sattam mattrapadadha varai... Paliyal vankondumai nadandhu kondey than irukum\n",
      "User Name: sarojasingaram, Comment Text: Arabu nattil ulla sattam kondu vara venudum\n",
      "User Name: asif_farv, Comment Text: Dismiss பண்ணுங்கடா அப்போ தான் பயம் வரும்.\n",
      "User Name: asif_farv, Comment Text: Romba periya thandana😂\n",
      "User Name: sadhamsam, Comment Text: Pnm\n",
      "User Name: comrade_venthan, Comment Text: பெண்களுக்கு எதிரி பெண்களே (சில பெண்கள் )\n",
      "User Name: tamil_pasangalaku_free, Comment Text: இது தான் தண்டனையா, சூப்பரூ 😂😂😂😂\n",
      "User Name: ak_r.x100, Comment Text: Yengaluku vandha thakkali chatni ungaluku vandha blood 😡😠 police karangaluku sambalam yethuku kudukuranganu kuda avangaluke theriya matuthu\n",
      "User Name: __.pius.__, Comment Text: இந்த சூரியவை செருப்பால அடி😂😂\n"
     ]
    },
    {
     "ename": "KeyboardInterrupt",
     "evalue": "",
     "output_type": "error",
     "traceback": [
      "\u001b[1;31m---------------------------------------------------------------------------\u001b[0m",
      "\u001b[1;31mKeyboardInterrupt\u001b[0m                         Traceback (most recent call last)",
      "Cell \u001b[1;32mIn[12], line 5\u001b[0m\n\u001b[0;32m      3\u001b[0m \u001b[38;5;66;03m# Follow each image link and extract page name, description, and comments\u001b[39;00m\n\u001b[0;32m      4\u001b[0m \u001b[38;5;28;01mfor\u001b[39;00m a \u001b[38;5;129;01min\u001b[39;00m anchors:\n\u001b[1;32m----> 5\u001b[0m     \u001b[43mdriver\u001b[49m\u001b[38;5;241;43m.\u001b[39;49m\u001b[43mget\u001b[49m\u001b[43m(\u001b[49m\u001b[43ma\u001b[49m\u001b[43m)\u001b[49m\n\u001b[0;32m      6\u001b[0m     comments_data \u001b[38;5;241m=\u001b[39m []\n\u001b[0;32m      8\u001b[0m     \u001b[38;5;28;01mtry\u001b[39;00m:\n\u001b[0;32m      9\u001b[0m         \u001b[38;5;66;03m# Extract post text\u001b[39;00m\n",
      "File \u001b[1;32m~\\AppData\\Local\\Packages\\PythonSoftwareFoundation.Python.3.11_qbz5n2kfra8p0\\LocalCache\\local-packages\\Python311\\site-packages\\selenium\\webdriver\\remote\\webdriver.py:363\u001b[0m, in \u001b[0;36mWebDriver.get\u001b[1;34m(self, url)\u001b[0m\n\u001b[0;32m    361\u001b[0m \u001b[38;5;28;01mdef\u001b[39;00m \u001b[38;5;21mget\u001b[39m(\u001b[38;5;28mself\u001b[39m, url: \u001b[38;5;28mstr\u001b[39m) \u001b[38;5;241m-\u001b[39m\u001b[38;5;241m>\u001b[39m \u001b[38;5;28;01mNone\u001b[39;00m:\n\u001b[0;32m    362\u001b[0m \u001b[38;5;250m    \u001b[39m\u001b[38;5;124;03m\"\"\"Loads a web page in the current browser session.\"\"\"\u001b[39;00m\n\u001b[1;32m--> 363\u001b[0m     \u001b[38;5;28;43mself\u001b[39;49m\u001b[38;5;241;43m.\u001b[39;49m\u001b[43mexecute\u001b[49m\u001b[43m(\u001b[49m\u001b[43mCommand\u001b[49m\u001b[38;5;241;43m.\u001b[39;49m\u001b[43mGET\u001b[49m\u001b[43m,\u001b[49m\u001b[43m \u001b[49m\u001b[43m{\u001b[49m\u001b[38;5;124;43m\"\u001b[39;49m\u001b[38;5;124;43murl\u001b[39;49m\u001b[38;5;124;43m\"\u001b[39;49m\u001b[43m:\u001b[49m\u001b[43m \u001b[49m\u001b[43murl\u001b[49m\u001b[43m}\u001b[49m\u001b[43m)\u001b[49m\n",
      "File \u001b[1;32m~\\AppData\\Local\\Packages\\PythonSoftwareFoundation.Python.3.11_qbz5n2kfra8p0\\LocalCache\\local-packages\\Python311\\site-packages\\selenium\\webdriver\\remote\\webdriver.py:352\u001b[0m, in \u001b[0;36mWebDriver.execute\u001b[1;34m(self, driver_command, params)\u001b[0m\n\u001b[0;32m    349\u001b[0m     \u001b[38;5;28;01melif\u001b[39;00m \u001b[38;5;124m\"\u001b[39m\u001b[38;5;124msessionId\u001b[39m\u001b[38;5;124m\"\u001b[39m \u001b[38;5;129;01mnot\u001b[39;00m \u001b[38;5;129;01min\u001b[39;00m params:\n\u001b[0;32m    350\u001b[0m         params[\u001b[38;5;124m\"\u001b[39m\u001b[38;5;124msessionId\u001b[39m\u001b[38;5;124m\"\u001b[39m] \u001b[38;5;241m=\u001b[39m \u001b[38;5;28mself\u001b[39m\u001b[38;5;241m.\u001b[39msession_id\n\u001b[1;32m--> 352\u001b[0m response \u001b[38;5;241m=\u001b[39m \u001b[38;5;28;43mself\u001b[39;49m\u001b[38;5;241;43m.\u001b[39;49m\u001b[43mcommand_executor\u001b[49m\u001b[38;5;241;43m.\u001b[39;49m\u001b[43mexecute\u001b[49m\u001b[43m(\u001b[49m\u001b[43mdriver_command\u001b[49m\u001b[43m,\u001b[49m\u001b[43m \u001b[49m\u001b[43mparams\u001b[49m\u001b[43m)\u001b[49m\n\u001b[0;32m    353\u001b[0m \u001b[38;5;28;01mif\u001b[39;00m response:\n\u001b[0;32m    354\u001b[0m     \u001b[38;5;28mself\u001b[39m\u001b[38;5;241m.\u001b[39merror_handler\u001b[38;5;241m.\u001b[39mcheck_response(response)\n",
      "File \u001b[1;32m~\\AppData\\Local\\Packages\\PythonSoftwareFoundation.Python.3.11_qbz5n2kfra8p0\\LocalCache\\local-packages\\Python311\\site-packages\\selenium\\webdriver\\remote\\remote_connection.py:302\u001b[0m, in \u001b[0;36mRemoteConnection.execute\u001b[1;34m(self, command, params)\u001b[0m\n\u001b[0;32m    300\u001b[0m trimmed \u001b[38;5;241m=\u001b[39m \u001b[38;5;28mself\u001b[39m\u001b[38;5;241m.\u001b[39m_trim_large_entries(params)\n\u001b[0;32m    301\u001b[0m LOGGER\u001b[38;5;241m.\u001b[39mdebug(\u001b[38;5;124m\"\u001b[39m\u001b[38;5;132;01m%s\u001b[39;00m\u001b[38;5;124m \u001b[39m\u001b[38;5;132;01m%s\u001b[39;00m\u001b[38;5;124m \u001b[39m\u001b[38;5;132;01m%s\u001b[39;00m\u001b[38;5;124m\"\u001b[39m, command_info[\u001b[38;5;241m0\u001b[39m], url, \u001b[38;5;28mstr\u001b[39m(trimmed))\n\u001b[1;32m--> 302\u001b[0m \u001b[38;5;28;01mreturn\u001b[39;00m \u001b[38;5;28;43mself\u001b[39;49m\u001b[38;5;241;43m.\u001b[39;49m\u001b[43m_request\u001b[49m\u001b[43m(\u001b[49m\u001b[43mcommand_info\u001b[49m\u001b[43m[\u001b[49m\u001b[38;5;241;43m0\u001b[39;49m\u001b[43m]\u001b[49m\u001b[43m,\u001b[49m\u001b[43m \u001b[49m\u001b[43murl\u001b[49m\u001b[43m,\u001b[49m\u001b[43m \u001b[49m\u001b[43mbody\u001b[49m\u001b[38;5;241;43m=\u001b[39;49m\u001b[43mdata\u001b[49m\u001b[43m)\u001b[49m\n",
      "File \u001b[1;32m~\\AppData\\Local\\Packages\\PythonSoftwareFoundation.Python.3.11_qbz5n2kfra8p0\\LocalCache\\local-packages\\Python311\\site-packages\\selenium\\webdriver\\remote\\remote_connection.py:322\u001b[0m, in \u001b[0;36mRemoteConnection._request\u001b[1;34m(self, method, url, body)\u001b[0m\n\u001b[0;32m    319\u001b[0m     body \u001b[38;5;241m=\u001b[39m \u001b[38;5;28;01mNone\u001b[39;00m\n\u001b[0;32m    321\u001b[0m \u001b[38;5;28;01mif\u001b[39;00m \u001b[38;5;28mself\u001b[39m\u001b[38;5;241m.\u001b[39mkeep_alive:\n\u001b[1;32m--> 322\u001b[0m     response \u001b[38;5;241m=\u001b[39m \u001b[38;5;28;43mself\u001b[39;49m\u001b[38;5;241;43m.\u001b[39;49m\u001b[43m_conn\u001b[49m\u001b[38;5;241;43m.\u001b[39;49m\u001b[43mrequest\u001b[49m\u001b[43m(\u001b[49m\u001b[43mmethod\u001b[49m\u001b[43m,\u001b[49m\u001b[43m \u001b[49m\u001b[43murl\u001b[49m\u001b[43m,\u001b[49m\u001b[43m \u001b[49m\u001b[43mbody\u001b[49m\u001b[38;5;241;43m=\u001b[39;49m\u001b[43mbody\u001b[49m\u001b[43m,\u001b[49m\u001b[43m \u001b[49m\u001b[43mheaders\u001b[49m\u001b[38;5;241;43m=\u001b[39;49m\u001b[43mheaders\u001b[49m\u001b[43m)\u001b[49m\n\u001b[0;32m    323\u001b[0m     statuscode \u001b[38;5;241m=\u001b[39m response\u001b[38;5;241m.\u001b[39mstatus\n\u001b[0;32m    324\u001b[0m \u001b[38;5;28;01melse\u001b[39;00m:\n",
      "File \u001b[1;32m~\\AppData\\Local\\Packages\\PythonSoftwareFoundation.Python.3.11_qbz5n2kfra8p0\\LocalCache\\local-packages\\Python311\\site-packages\\urllib3\\_request_methods.py:144\u001b[0m, in \u001b[0;36mRequestMethods.request\u001b[1;34m(self, method, url, body, fields, headers, json, **urlopen_kw)\u001b[0m\n\u001b[0;32m    136\u001b[0m     \u001b[38;5;28;01mreturn\u001b[39;00m \u001b[38;5;28mself\u001b[39m\u001b[38;5;241m.\u001b[39mrequest_encode_url(\n\u001b[0;32m    137\u001b[0m         method,\n\u001b[0;32m    138\u001b[0m         url,\n\u001b[1;32m   (...)\u001b[0m\n\u001b[0;32m    141\u001b[0m         \u001b[38;5;241m*\u001b[39m\u001b[38;5;241m*\u001b[39murlopen_kw,\n\u001b[0;32m    142\u001b[0m     )\n\u001b[0;32m    143\u001b[0m \u001b[38;5;28;01melse\u001b[39;00m:\n\u001b[1;32m--> 144\u001b[0m     \u001b[38;5;28;01mreturn\u001b[39;00m \u001b[38;5;28;43mself\u001b[39;49m\u001b[38;5;241;43m.\u001b[39;49m\u001b[43mrequest_encode_body\u001b[49m\u001b[43m(\u001b[49m\n\u001b[0;32m    145\u001b[0m \u001b[43m        \u001b[49m\u001b[43mmethod\u001b[49m\u001b[43m,\u001b[49m\u001b[43m \u001b[49m\u001b[43murl\u001b[49m\u001b[43m,\u001b[49m\u001b[43m \u001b[49m\u001b[43mfields\u001b[49m\u001b[38;5;241;43m=\u001b[39;49m\u001b[43mfields\u001b[49m\u001b[43m,\u001b[49m\u001b[43m \u001b[49m\u001b[43mheaders\u001b[49m\u001b[38;5;241;43m=\u001b[39;49m\u001b[43mheaders\u001b[49m\u001b[43m,\u001b[49m\u001b[43m \u001b[49m\u001b[38;5;241;43m*\u001b[39;49m\u001b[38;5;241;43m*\u001b[39;49m\u001b[43murlopen_kw\u001b[49m\n\u001b[0;32m    146\u001b[0m \u001b[43m    \u001b[49m\u001b[43m)\u001b[49m\n",
      "File \u001b[1;32m~\\AppData\\Local\\Packages\\PythonSoftwareFoundation.Python.3.11_qbz5n2kfra8p0\\LocalCache\\local-packages\\Python311\\site-packages\\urllib3\\_request_methods.py:279\u001b[0m, in \u001b[0;36mRequestMethods.request_encode_body\u001b[1;34m(self, method, url, fields, headers, encode_multipart, multipart_boundary, **urlopen_kw)\u001b[0m\n\u001b[0;32m    275\u001b[0m     extra_kw[\u001b[38;5;124m\"\u001b[39m\u001b[38;5;124mheaders\u001b[39m\u001b[38;5;124m\"\u001b[39m]\u001b[38;5;241m.\u001b[39msetdefault(\u001b[38;5;124m\"\u001b[39m\u001b[38;5;124mContent-Type\u001b[39m\u001b[38;5;124m\"\u001b[39m, content_type)\n\u001b[0;32m    277\u001b[0m extra_kw\u001b[38;5;241m.\u001b[39mupdate(urlopen_kw)\n\u001b[1;32m--> 279\u001b[0m \u001b[38;5;28;01mreturn\u001b[39;00m \u001b[38;5;28;43mself\u001b[39;49m\u001b[38;5;241;43m.\u001b[39;49m\u001b[43murlopen\u001b[49m\u001b[43m(\u001b[49m\u001b[43mmethod\u001b[49m\u001b[43m,\u001b[49m\u001b[43m \u001b[49m\u001b[43murl\u001b[49m\u001b[43m,\u001b[49m\u001b[43m \u001b[49m\u001b[38;5;241;43m*\u001b[39;49m\u001b[38;5;241;43m*\u001b[39;49m\u001b[43mextra_kw\u001b[49m\u001b[43m)\u001b[49m\n",
      "File \u001b[1;32m~\\AppData\\Local\\Packages\\PythonSoftwareFoundation.Python.3.11_qbz5n2kfra8p0\\LocalCache\\local-packages\\Python311\\site-packages\\urllib3\\poolmanager.py:443\u001b[0m, in \u001b[0;36mPoolManager.urlopen\u001b[1;34m(self, method, url, redirect, **kw)\u001b[0m\n\u001b[0;32m    441\u001b[0m     response \u001b[38;5;241m=\u001b[39m conn\u001b[38;5;241m.\u001b[39murlopen(method, url, \u001b[38;5;241m*\u001b[39m\u001b[38;5;241m*\u001b[39mkw)\n\u001b[0;32m    442\u001b[0m \u001b[38;5;28;01melse\u001b[39;00m:\n\u001b[1;32m--> 443\u001b[0m     response \u001b[38;5;241m=\u001b[39m \u001b[43mconn\u001b[49m\u001b[38;5;241;43m.\u001b[39;49m\u001b[43murlopen\u001b[49m\u001b[43m(\u001b[49m\u001b[43mmethod\u001b[49m\u001b[43m,\u001b[49m\u001b[43m \u001b[49m\u001b[43mu\u001b[49m\u001b[38;5;241;43m.\u001b[39;49m\u001b[43mrequest_uri\u001b[49m\u001b[43m,\u001b[49m\u001b[43m \u001b[49m\u001b[38;5;241;43m*\u001b[39;49m\u001b[38;5;241;43m*\u001b[39;49m\u001b[43mkw\u001b[49m\u001b[43m)\u001b[49m\n\u001b[0;32m    445\u001b[0m redirect_location \u001b[38;5;241m=\u001b[39m redirect \u001b[38;5;129;01mand\u001b[39;00m response\u001b[38;5;241m.\u001b[39mget_redirect_location()\n\u001b[0;32m    446\u001b[0m \u001b[38;5;28;01mif\u001b[39;00m \u001b[38;5;129;01mnot\u001b[39;00m redirect_location:\n",
      "File \u001b[1;32m~\\AppData\\Local\\Packages\\PythonSoftwareFoundation.Python.3.11_qbz5n2kfra8p0\\LocalCache\\local-packages\\Python311\\site-packages\\urllib3\\connectionpool.py:789\u001b[0m, in \u001b[0;36mHTTPConnectionPool.urlopen\u001b[1;34m(self, method, url, body, headers, retries, redirect, assert_same_host, timeout, pool_timeout, release_conn, chunked, body_pos, preload_content, decode_content, **response_kw)\u001b[0m\n\u001b[0;32m    786\u001b[0m response_conn \u001b[38;5;241m=\u001b[39m conn \u001b[38;5;28;01mif\u001b[39;00m \u001b[38;5;129;01mnot\u001b[39;00m release_conn \u001b[38;5;28;01melse\u001b[39;00m \u001b[38;5;28;01mNone\u001b[39;00m\n\u001b[0;32m    788\u001b[0m \u001b[38;5;66;03m# Make the request on the HTTPConnection object\u001b[39;00m\n\u001b[1;32m--> 789\u001b[0m response \u001b[38;5;241m=\u001b[39m \u001b[38;5;28;43mself\u001b[39;49m\u001b[38;5;241;43m.\u001b[39;49m\u001b[43m_make_request\u001b[49m\u001b[43m(\u001b[49m\n\u001b[0;32m    790\u001b[0m \u001b[43m    \u001b[49m\u001b[43mconn\u001b[49m\u001b[43m,\u001b[49m\n\u001b[0;32m    791\u001b[0m \u001b[43m    \u001b[49m\u001b[43mmethod\u001b[49m\u001b[43m,\u001b[49m\n\u001b[0;32m    792\u001b[0m \u001b[43m    \u001b[49m\u001b[43murl\u001b[49m\u001b[43m,\u001b[49m\n\u001b[0;32m    793\u001b[0m \u001b[43m    \u001b[49m\u001b[43mtimeout\u001b[49m\u001b[38;5;241;43m=\u001b[39;49m\u001b[43mtimeout_obj\u001b[49m\u001b[43m,\u001b[49m\n\u001b[0;32m    794\u001b[0m \u001b[43m    \u001b[49m\u001b[43mbody\u001b[49m\u001b[38;5;241;43m=\u001b[39;49m\u001b[43mbody\u001b[49m\u001b[43m,\u001b[49m\n\u001b[0;32m    795\u001b[0m \u001b[43m    \u001b[49m\u001b[43mheaders\u001b[49m\u001b[38;5;241;43m=\u001b[39;49m\u001b[43mheaders\u001b[49m\u001b[43m,\u001b[49m\n\u001b[0;32m    796\u001b[0m \u001b[43m    \u001b[49m\u001b[43mchunked\u001b[49m\u001b[38;5;241;43m=\u001b[39;49m\u001b[43mchunked\u001b[49m\u001b[43m,\u001b[49m\n\u001b[0;32m    797\u001b[0m \u001b[43m    \u001b[49m\u001b[43mretries\u001b[49m\u001b[38;5;241;43m=\u001b[39;49m\u001b[43mretries\u001b[49m\u001b[43m,\u001b[49m\n\u001b[0;32m    798\u001b[0m \u001b[43m    \u001b[49m\u001b[43mresponse_conn\u001b[49m\u001b[38;5;241;43m=\u001b[39;49m\u001b[43mresponse_conn\u001b[49m\u001b[43m,\u001b[49m\n\u001b[0;32m    799\u001b[0m \u001b[43m    \u001b[49m\u001b[43mpreload_content\u001b[49m\u001b[38;5;241;43m=\u001b[39;49m\u001b[43mpreload_content\u001b[49m\u001b[43m,\u001b[49m\n\u001b[0;32m    800\u001b[0m \u001b[43m    \u001b[49m\u001b[43mdecode_content\u001b[49m\u001b[38;5;241;43m=\u001b[39;49m\u001b[43mdecode_content\u001b[49m\u001b[43m,\u001b[49m\n\u001b[0;32m    801\u001b[0m \u001b[43m    \u001b[49m\u001b[38;5;241;43m*\u001b[39;49m\u001b[38;5;241;43m*\u001b[39;49m\u001b[43mresponse_kw\u001b[49m\u001b[43m,\u001b[49m\n\u001b[0;32m    802\u001b[0m \u001b[43m\u001b[49m\u001b[43m)\u001b[49m\n\u001b[0;32m    804\u001b[0m \u001b[38;5;66;03m# Everything went great!\u001b[39;00m\n\u001b[0;32m    805\u001b[0m clean_exit \u001b[38;5;241m=\u001b[39m \u001b[38;5;28;01mTrue\u001b[39;00m\n",
      "File \u001b[1;32m~\\AppData\\Local\\Packages\\PythonSoftwareFoundation.Python.3.11_qbz5n2kfra8p0\\LocalCache\\local-packages\\Python311\\site-packages\\urllib3\\connectionpool.py:536\u001b[0m, in \u001b[0;36mHTTPConnectionPool._make_request\u001b[1;34m(self, conn, method, url, body, headers, retries, timeout, chunked, response_conn, preload_content, decode_content, enforce_content_length)\u001b[0m\n\u001b[0;32m    534\u001b[0m \u001b[38;5;66;03m# Receive the response from the server\u001b[39;00m\n\u001b[0;32m    535\u001b[0m \u001b[38;5;28;01mtry\u001b[39;00m:\n\u001b[1;32m--> 536\u001b[0m     response \u001b[38;5;241m=\u001b[39m \u001b[43mconn\u001b[49m\u001b[38;5;241;43m.\u001b[39;49m\u001b[43mgetresponse\u001b[49m\u001b[43m(\u001b[49m\u001b[43m)\u001b[49m\n\u001b[0;32m    537\u001b[0m \u001b[38;5;28;01mexcept\u001b[39;00m (BaseSSLError, \u001b[38;5;167;01mOSError\u001b[39;00m) \u001b[38;5;28;01mas\u001b[39;00m e:\n\u001b[0;32m    538\u001b[0m     \u001b[38;5;28mself\u001b[39m\u001b[38;5;241m.\u001b[39m_raise_timeout(err\u001b[38;5;241m=\u001b[39me, url\u001b[38;5;241m=\u001b[39murl, timeout_value\u001b[38;5;241m=\u001b[39mread_timeout)\n",
      "File \u001b[1;32m~\\AppData\\Local\\Packages\\PythonSoftwareFoundation.Python.3.11_qbz5n2kfra8p0\\LocalCache\\local-packages\\Python311\\site-packages\\urllib3\\connection.py:464\u001b[0m, in \u001b[0;36mHTTPConnection.getresponse\u001b[1;34m(self)\u001b[0m\n\u001b[0;32m    461\u001b[0m \u001b[38;5;28;01mfrom\u001b[39;00m \u001b[38;5;21;01m.\u001b[39;00m\u001b[38;5;21;01mresponse\u001b[39;00m \u001b[38;5;28;01mimport\u001b[39;00m HTTPResponse\n\u001b[0;32m    463\u001b[0m \u001b[38;5;66;03m# Get the response from http.client.HTTPConnection\u001b[39;00m\n\u001b[1;32m--> 464\u001b[0m httplib_response \u001b[38;5;241m=\u001b[39m \u001b[38;5;28;43msuper\u001b[39;49m\u001b[43m(\u001b[49m\u001b[43m)\u001b[49m\u001b[38;5;241;43m.\u001b[39;49m\u001b[43mgetresponse\u001b[49m\u001b[43m(\u001b[49m\u001b[43m)\u001b[49m\n\u001b[0;32m    466\u001b[0m \u001b[38;5;28;01mtry\u001b[39;00m:\n\u001b[0;32m    467\u001b[0m     assert_header_parsing(httplib_response\u001b[38;5;241m.\u001b[39mmsg)\n",
      "File \u001b[1;32mC:\\Program Files\\WindowsApps\\PythonSoftwareFoundation.Python.3.11_3.11.2544.0_x64__qbz5n2kfra8p0\\Lib\\http\\client.py:1395\u001b[0m, in \u001b[0;36mHTTPConnection.getresponse\u001b[1;34m(self)\u001b[0m\n\u001b[0;32m   1393\u001b[0m \u001b[38;5;28;01mtry\u001b[39;00m:\n\u001b[0;32m   1394\u001b[0m     \u001b[38;5;28;01mtry\u001b[39;00m:\n\u001b[1;32m-> 1395\u001b[0m         \u001b[43mresponse\u001b[49m\u001b[38;5;241;43m.\u001b[39;49m\u001b[43mbegin\u001b[49m\u001b[43m(\u001b[49m\u001b[43m)\u001b[49m\n\u001b[0;32m   1396\u001b[0m     \u001b[38;5;28;01mexcept\u001b[39;00m \u001b[38;5;167;01mConnectionError\u001b[39;00m:\n\u001b[0;32m   1397\u001b[0m         \u001b[38;5;28mself\u001b[39m\u001b[38;5;241m.\u001b[39mclose()\n",
      "File \u001b[1;32mC:\\Program Files\\WindowsApps\\PythonSoftwareFoundation.Python.3.11_3.11.2544.0_x64__qbz5n2kfra8p0\\Lib\\http\\client.py:325\u001b[0m, in \u001b[0;36mHTTPResponse.begin\u001b[1;34m(self)\u001b[0m\n\u001b[0;32m    323\u001b[0m \u001b[38;5;66;03m# read until we get a non-100 response\u001b[39;00m\n\u001b[0;32m    324\u001b[0m \u001b[38;5;28;01mwhile\u001b[39;00m \u001b[38;5;28;01mTrue\u001b[39;00m:\n\u001b[1;32m--> 325\u001b[0m     version, status, reason \u001b[38;5;241m=\u001b[39m \u001b[38;5;28;43mself\u001b[39;49m\u001b[38;5;241;43m.\u001b[39;49m\u001b[43m_read_status\u001b[49m\u001b[43m(\u001b[49m\u001b[43m)\u001b[49m\n\u001b[0;32m    326\u001b[0m     \u001b[38;5;28;01mif\u001b[39;00m status \u001b[38;5;241m!=\u001b[39m CONTINUE:\n\u001b[0;32m    327\u001b[0m         \u001b[38;5;28;01mbreak\u001b[39;00m\n",
      "File \u001b[1;32mC:\\Program Files\\WindowsApps\\PythonSoftwareFoundation.Python.3.11_3.11.2544.0_x64__qbz5n2kfra8p0\\Lib\\http\\client.py:286\u001b[0m, in \u001b[0;36mHTTPResponse._read_status\u001b[1;34m(self)\u001b[0m\n\u001b[0;32m    285\u001b[0m \u001b[38;5;28;01mdef\u001b[39;00m \u001b[38;5;21m_read_status\u001b[39m(\u001b[38;5;28mself\u001b[39m):\n\u001b[1;32m--> 286\u001b[0m     line \u001b[38;5;241m=\u001b[39m \u001b[38;5;28mstr\u001b[39m(\u001b[38;5;28mself\u001b[39m\u001b[38;5;241m.\u001b[39mfp\u001b[38;5;241m.\u001b[39mreadline(_MAXLINE \u001b[38;5;241m+\u001b[39m \u001b[38;5;241m1\u001b[39m), \u001b[38;5;124m\"\u001b[39m\u001b[38;5;124miso-8859-1\u001b[39m\u001b[38;5;124m\"\u001b[39m)\n\u001b[0;32m    287\u001b[0m     \u001b[38;5;28;01mif\u001b[39;00m \u001b[38;5;28mlen\u001b[39m(line) \u001b[38;5;241m>\u001b[39m _MAXLINE:\n\u001b[0;32m    288\u001b[0m         \u001b[38;5;28;01mraise\u001b[39;00m LineTooLong(\u001b[38;5;124m\"\u001b[39m\u001b[38;5;124mstatus line\u001b[39m\u001b[38;5;124m\"\u001b[39m)\n",
      "File \u001b[1;32mC:\\Program Files\\WindowsApps\\PythonSoftwareFoundation.Python.3.11_3.11.2544.0_x64__qbz5n2kfra8p0\\Lib\\socket.py:706\u001b[0m, in \u001b[0;36mSocketIO.readinto\u001b[1;34m(self, b)\u001b[0m\n\u001b[0;32m    704\u001b[0m \u001b[38;5;28;01mwhile\u001b[39;00m \u001b[38;5;28;01mTrue\u001b[39;00m:\n\u001b[0;32m    705\u001b[0m     \u001b[38;5;28;01mtry\u001b[39;00m:\n\u001b[1;32m--> 706\u001b[0m         \u001b[38;5;28;01mreturn\u001b[39;00m \u001b[38;5;28;43mself\u001b[39;49m\u001b[38;5;241;43m.\u001b[39;49m\u001b[43m_sock\u001b[49m\u001b[38;5;241;43m.\u001b[39;49m\u001b[43mrecv_into\u001b[49m\u001b[43m(\u001b[49m\u001b[43mb\u001b[49m\u001b[43m)\u001b[49m\n\u001b[0;32m    707\u001b[0m     \u001b[38;5;28;01mexcept\u001b[39;00m timeout:\n\u001b[0;32m    708\u001b[0m         \u001b[38;5;28mself\u001b[39m\u001b[38;5;241m.\u001b[39m_timeout_occurred \u001b[38;5;241m=\u001b[39m \u001b[38;5;28;01mTrue\u001b[39;00m\n",
      "\u001b[1;31mKeyboardInterrupt\u001b[0m: "
     ]
    }
   ],
   "source": [
    "posts_data = []\n",
    "\n",
    "# Follow each image link and extract page name, description, and comments\n",
    "for a in anchors:\n",
    "    driver.get(a)\n",
    "    comments_data = []\n",
    "    \n",
    "    try:\n",
    "        # Extract post text\n",
    "        post_text_element = WebDriverWait(driver, 10).until(\n",
    "            EC.presence_of_element_located((By.XPATH, \"//span[contains(@class, 'x193iq5w xeuugli x1fj9vlw x13faqbe x1vvkbs xt0psk2 x1i0vuye xvs91rp xo1l8bm x5n08af x10wh9bi x1wdrske x8viiok x18hxmgj')]\"))\n",
    "        )\n",
    "        post_text = post_text_element.text.strip()\n",
    "    except Exception as e:\n",
    "        print(f\"Error while extracting post text: {str(e)}\")\n",
    "        post_text = \"\"\n",
    "\n",
    "    try:\n",
    "        # Extract page name\n",
    "        page_name_element = WebDriverWait(driver, 10).until(\n",
    "            EC.presence_of_element_located((By.XPATH, \"//span[contains(@class, '_ap3a _aaco _aacw _aacx _aad7 _aade')]\"))\n",
    "        )\n",
    "        page_name = page_name_element.text.strip()\n",
    "    except Exception as e:\n",
    "        print(f\"Error while extracting page name: {str(e)}\")\n",
    "        page_name = \"\"\n",
    "\n",
    "    try:\n",
    "        # Extract comments\n",
    "        user_elements = WebDriverWait(driver, 10).until(\n",
    "            EC.presence_of_all_elements_located((By.XPATH, \"//span[contains(@class, '_ap3a _aaco _aacw _aacx _aad7 _aade')]\"))\n",
    "        )\n",
    "        \n",
    "        span_elements = WebDriverWait(driver, 10).until(\n",
    "            EC.presence_of_all_elements_located((By.XPATH, \"//div[contains(@class, 'x9f619 xjbqb8w x78zum5 x168nmei x13lgxp2 x5pf9jr xo71vjh x1uhb9sk x1plvlek xryxfnj x1c4vz4f x2lah0s xdt5ytf xqjyukv x1cy8zhl x1oa3qoh x1nhvcw1')]//span[contains(@class, 'x1lliihq x1plvlek xryxfnj x1n2onr6 x193iq5w xeuugli x1fj9vlw x13faqbe x1vvkbs x1s928wv xhkezso x1gmr53x x1cpjm7i x1fgarty x1943h6x x1i0vuye xvs91rp xo1l8bm x5n08af x10wh9bi x1wdrske x8viiok x18hxmgj')]\"))\n",
    "        )\n",
    "        \n",
    "        # Combine user names and their respective comments\n",
    "        for user_element, span_element in zip(user_elements, span_elements):\n",
    "            user_name = user_element.text.strip()\n",
    "            comment_text = span_element.text.strip()\n",
    "            print(f\"User Name: {user_name}, Comment Text: {comment_text}\")\n",
    "\n",
    "            comments_data.append({\n",
    "                'user_name': user_name,\n",
    "                'comment_text': comment_text\n",
    "            })\n",
    "\n",
    "    except Exception as e:\n",
    "        print(f\"Error while extracting comments: {str(e)}\")\n",
    "\n",
    "    # Construct JSON object for each post\n",
    "    post_data = {\n",
    "        'post_text': post_text,\n",
    "        'page_name': page_name,\n",
    "        'comments': comments_data\n",
    "    }\n",
    "# Add post data to the list\n",
    "    posts_data.append(post_data)"
   ]
  },
  {
   "cell_type": "code",
   "execution_count": 13,
   "metadata": {},
   "outputs": [
    {
     "name": "stdout",
     "output_type": "stream",
     "text": [
      "{'post_text': '', 'page_name': 'propergaanda', 'comments': []}\n",
      "{'post_text': '#NitishBhardwaj: महाभारत में कृष्ण का किरदार निभा चुके एक्टर नीतीश भारद्वाज ने IAS पत्नी के खिलाफ दर्ज कराई शिकायत, लगाया मानसिक उत्पीड़न का आरोप-\\n\\n#IAS #Mahabharat #mentalhealth #mentalharassment #harassment #entertainmentnews #moneycontrol', 'page_name': 'moneycontrol_hindi', 'comments': [{'user_name': 'moneycontrol_hindi', 'comment_text': 'Even Krishan ji is not safe with stree 😂'}, {'user_name': 'moneycontrol_hindi', 'comment_text': \"That's why I decided to stay single throughout the my😢 life\"}, {'user_name': 'the_notorious_vibe', 'comment_text': 'Brave men'}, {'user_name': 'avsk_kr', 'comment_text': 'इस दुनिया ने राम को नहीं छोड़ा, हम तो फिर भी आम है।🙏🏻🕉️🔱'}, {'user_name': 'prasad.vaidya.16', 'comment_text': 'इस संसार से मेरा विश्वास उठ गया जिसने लोंगो की उलझनों को दूर करने की कोशिश की वो खुद उलझन में फस गए'}, {'user_name': 'vairagi765', 'comment_text': 'राखी सावंत जिंदाबाद😂'}, {'user_name': 'joshi740000', 'comment_text': 'Sir aaj bhi aapki languages bta rahi hai ki aap bhura che insan hain but kalyug hai ye sir'}, {'user_name': 'frankly_attitude_alone_happer', 'comment_text': 'Nitish ji महाभारत मे भी सस्त्र उठा नही पाए, abhi उठा नही पा रहे है?'}, {'user_name': 'sharmaaadi062', 'comment_text': 'MPFC madhya pradesh financial corporation main thi iski gharwali'}, {'user_name': 'amitmshr0492', 'comment_text': 'हे प्रभू'}, {'user_name': 'imsamyakbafna', 'comment_text': 'जय श्री कृष्ण आपकी जीत होगी'}, {'user_name': 'darokardhanraj', 'comment_text': 'Aapki halat aisi he to Hamari kesi hogi Bhagwan'}, {'user_name': 'abhinav.vyas.549', 'comment_text': 'Krishna ji is also not feeling safe wherever his wife is IAS 😂'}, {'user_name': 'yogeshamin', 'comment_text': 'To fir abhimanyu ko kyu bheja chakrvyuh me!!'}]}\n",
      "{'post_text': '•', 'page_name': 'cma.unofficial', 'comments': [{'user_name': 'cma.unofficial', 'comment_text': 'True relatable bhai I am also CMA Student 😢'}, {'user_name': 'cma.unofficial', 'comment_text': 'Bohot relatable h......kab hoga clear yr 😩'}, {'user_name': 'harsh_soni_5864', 'comment_text': '💯 , but one day we can do it ❤️🙌'}, {'user_name': 'garv_sachdev', 'comment_text': 'Relatable...laga Thoda😂bro'}, {'user_name': 'mistryhemant9923', 'comment_text': 'Exactly 🥺'}, {'user_name': 'sky__8055', 'comment_text': 'Damnn truth'}, {'user_name': 'zoha.farzana', 'comment_text': 'relatable Bhai'}, {'user_name': 'vyas.samridhi', 'comment_text': 'Relatable 😢'}, {'user_name': 'tsam967912022', 'comment_text': 'Or phir log bolte hain ki CMA toh bohot easy hai tough toh Ca hai bus ... No hate for Ca course 😀'}, {'user_name': 'manpreet_mehra226', 'comment_text': '😢😢 kabhi kabhi tuut jate hein...after all parents keleya again khada hona padhta hey'}, {'user_name': 'dom_perignon786', 'comment_text': 'Me ni leta tension chill rehta me to ho gya pass to thik Verna fir dedenge, fail ho gya zindgi thodi khtm ho gai'}, {'user_name': '_stk90_', 'comment_text': 'CMA students bhi itna padhte hain'}, {'user_name': '_a_man_from_himachal_', 'comment_text': '😢😢'}, {'user_name': 'sujit.panigrahi1995', 'comment_text': '😢'}]}\n",
      "{'post_text': 'பாலியல் வழக்கு - பெண் காவலர் பணியிட மாற்றம்\\n\\n#Thanjavur | #TNpolice | #harassment | #TamilNadu | #News7Tamil | #News7TamilUpdates', 'page_name': 'news7tamil', 'comments': [{'user_name': 'news7tamil', 'comment_text': '😂'}, {'user_name': 'news7tamil', 'comment_text': 'நீங்களும் ஒரு பெண் தானே 🙌 இப்படி நடந்து கொள்ளலாமா'}, {'user_name': 'gokul_spartan', 'comment_text': 'வேலைய விட்டே தூகுங்க... அதென்ன வேறு துறைக்கு மாற்றம்.. கண் துடைப்பு நடவடிக்கைகளால் நாடே உருப்படாது...'}, {'user_name': 'karthik_balaji_ks', 'comment_text': 'Sattam mattrapadadha varai... Paliyal vankondumai nadandhu kondey than irukum'}, {'user_name': 'sarojasingaram', 'comment_text': 'Arabu nattil ulla sattam kondu vara venudum'}, {'user_name': 'asif_farv', 'comment_text': 'Dismiss பண்ணுங்கடா அப்போ தான் பயம் வரும்.'}, {'user_name': 'asif_farv', 'comment_text': 'Romba periya thandana😂'}, {'user_name': 'sadhamsam', 'comment_text': 'Pnm'}, {'user_name': 'comrade_venthan', 'comment_text': 'பெண்களுக்கு எதிரி பெண்களே (சில பெண்கள் )'}, {'user_name': 'tamil_pasangalaku_free', 'comment_text': 'இது தான் தண்டனையா, சூப்பரூ 😂😂😂😂'}, {'user_name': 'ak_r.x100', 'comment_text': 'Yengaluku vandha thakkali chatni ungaluku vandha blood 😡😠 police karangaluku sambalam yethuku kudukuranganu kuda avangaluke theriya matuthu'}, {'user_name': '__.pius.__', 'comment_text': 'இந்த சூரியவை செருப்பால அடி😂😂'}]}\n"
     ]
    }
   ],
   "source": [
    "for p in posts_data :\n",
    "    print (p)"
   ]
  },
  {
   "cell_type": "code",
   "execution_count": 94,
   "metadata": {},
   "outputs": [
    {
     "name": "stdout",
     "output_type": "stream",
     "text": [
      "JSON data has been saved to data.json\n"
     ]
    }
   ],
   "source": [
    "import json\n",
    "\n",
    "\n",
    "\"\"\"\n",
    "# Define the file path where you want to save the JSON data\n",
    "file_path = 'data.json'\n",
    "\n",
    "# Serialize Python object to JSON\n",
    "json_data = json.dumps(posts_data, indent=4)  # indent for pretty formatting\n",
    "\n",
    "\n",
    "# Save posts_data to a JSON file\n",
    "with open('posts_data.json', 'w', encoding='utf-8') as f:\n",
    "    json.dump(posts_data, f, ensure_ascii=False, indent=4)\n",
    "print(f\"JSON data has been saved to {file_path}\")\n",
    "\"\"\"\n"
   ]
  },
  {
   "cell_type": "code",
   "execution_count": 15,
   "metadata": {},
   "outputs": [
    {
     "name": "stdout",
     "output_type": "stream",
     "text": [
      "JSON data has been saved to data.json\n"
     ]
    }
   ],
   "source": [
    "import json\n",
    "\n",
    "# Define the file path where you want to save the JSON data\n",
    "file_path = 'data.json'\n",
    "\n",
    "# Save posts_data to a JSON file\n",
    "with open(file_path, 'w', encoding='utf-8') as f:\n",
    "    json.dump(posts_data, f, ensure_ascii=False, indent=4)\n",
    "\n",
    "print(f\"JSON data has been saved to {file_path}\")"
   ]
  },
  {
   "cell_type": "code",
   "execution_count": null,
   "metadata": {},
   "outputs": [],
   "source": []
  }
 ],
 "metadata": {
  "kernelspec": {
   "display_name": "Python 3",
   "language": "python",
   "name": "python3"
  },
  "language_info": {
   "codemirror_mode": {
    "name": "ipython",
    "version": 3
   },
   "file_extension": ".py",
   "mimetype": "text/x-python",
   "name": "python",
   "nbconvert_exporter": "python",
   "pygments_lexer": "ipython3",
   "version": "3.11.9"
  }
 },
 "nbformat": 4,
 "nbformat_minor": 2
}
