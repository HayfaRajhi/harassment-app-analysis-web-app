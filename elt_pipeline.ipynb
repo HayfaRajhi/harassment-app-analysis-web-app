{
 "cells": [
  {
   "cell_type": "code",
   "execution_count": 59,
   "metadata": {},
   "outputs": [],
   "source": [
    "import json\n",
    "import re\n"
   ]
  },
  {
   "cell_type": "code",
   "execution_count": 60,
   "metadata": {},
   "outputs": [],
   "source": [
    "# Load the JSON data from a file\n",
    "with open('posts_data.json', 'r', encoding='utf-8') as file:\n",
    "    data = json.load(file)"
   ]
  },
  {
   "cell_type": "code",
   "execution_count": 61,
   "metadata": {},
   "outputs": [],
   "source": [
    "## function to clean comment and post description cleaning (deleting emojis and unspecied caracters)\n",
    "def clean_text(comment_text):\n",
    "      # Replace sequences of multiple newline characters with a single space\n",
    "     cleaned_text = re.sub(r'\\n+', ' ', comment_text)\n",
    "     cleaned_text  = re.sub(r'[^\\w\\s]', '', cleaned_text) # regular expression of emojis(matches any character that is not a word character (\\w) or whitespace character (\\s).)\n",
    "\n",
    "     # Return None if the cleaned text is empty\n",
    "     return cleaned_text if cleaned_text.strip() else None"
   ]
  },
  {
   "cell_type": "code",
   "execution_count": 62,
   "metadata": {},
   "outputs": [],
   "source": [
    "# Function to filter posts related to child harassment\n",
    "def is_child_harassment(text):\n",
    "    # Define keywords related to child harassment\n",
    "    keywords = ['child', 'children', 'harassment', 'abuse', 'exploitation']\n",
    "    # Check if any keyword is in the text\n",
    "    return any(keyword in text.lower() for keyword in keywords)"
   ]
  },
  {
   "cell_type": "code",
   "execution_count": null,
   "metadata": {},
   "outputs": [],
   "source": [
    "# Clean and filter data\n",
    "cleaned_data = []\n",
    "for post in data:\n",
    "    # Clean post text\n",
    "    post['post_text'] = clean_text(post['post_text']) or ''\n",
    "    \n",
    "    # Clean and filter comments\n",
    "    cleaned_comments = []\n",
    "    for comment in post['comments']:\n",
    "        cleaned_comment_text = clean_text(comment['comment_text'])\n",
    "        # Keep only non-empty comments\n",
    "        if cleaned_comment_text is not None:\n",
    "            cleaned_comments.append({\n",
    "                'user_name': comment['user_name'],\n",
    "                'comment_text': cleaned_comment_text\n",
    "            })\n",
    "    \n",
    "    post['comments'] = cleaned_comments\n",
    "    \n",
    "    # Filter posts\n",
    "    if not is_child_harassment(post['post_text']):\n",
    "        cleaned_data.append(post)\n",
    "        print(\"yes\")"
   ]
  },
  {
   "cell_type": "code",
   "execution_count": 64,
   "metadata": {},
   "outputs": [
    {
     "name": "stdout",
     "output_type": "stream",
     "text": [
      "Data cleaning and filtering complete. Cleaned data saved to 'cleaned_instagram_posts.json'.\n"
     ]
    }
   ],
   "source": [
    "# Save the cleaned and filtered data back to a JSON file\n",
    "with open('cleaned_posts_data.json', 'w', encoding='utf-8') as file:\n",
    "    json.dump(cleaned_data, file, ensure_ascii=False, indent=4)\n",
    "\n",
    "print(\"Data cleaning and filtering complete. Cleaned data saved to 'cleaned_instagram_posts.json'.\")"
   ]
  }
 ],
 "metadata": {
  "kernelspec": {
   "display_name": "Python 3",
   "language": "python",
   "name": "python3"
  },
  "language_info": {
   "codemirror_mode": {
    "name": "ipython",
    "version": 3
   },
   "file_extension": ".py",
   "mimetype": "text/x-python",
   "name": "python",
   "nbconvert_exporter": "python",
   "pygments_lexer": "ipython3",
   "version": "3.11.9"
  }
 },
 "nbformat": 4,
 "nbformat_minor": 2
}
